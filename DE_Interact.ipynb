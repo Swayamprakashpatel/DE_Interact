{
  "nbformat": 4,
  "nbformat_minor": 0,
  "metadata": {
    "colab": {
      "provenance": [],
      "authorship_tag": "ABX9TyMHo8Y5DKJ3J8maKir0cNJJ",
      "include_colab_link": true
    },
    "kernelspec": {
      "name": "python3",
      "display_name": "Python 3"
    },
    "language_info": {
      "name": "python"
    }
  },
  "cells": [
    {
      "cell_type": "markdown",
      "metadata": {
        "id": "view-in-github",
        "colab_type": "text"
      },
      "source": [
        "<a href=\"https://colab.research.google.com/github/Swayamprakashpatel/DE_Interact.github.io/blob/main/DE_Interact.ipynb\" target=\"_parent\"><img src=\"https://colab.research.google.com/assets/colab-badge.svg\" alt=\"Open In Colab\"/></a>"
      ]
    },
    {
      "cell_type": "markdown",
      "source": [
        "**DRUG-EXCIPIENT INTERACTION PREDICTION TOOL**\n",
        "\n",
        "Dr. Swayamprakash Patel (Email: swayamprakashpatel.ph@charusat.ac.in)\n",
        "\n",
        "\n",
        "**Model Details:**\n",
        "\n",
        "Training Accuracy is 0.9898828268051147\n",
        "\n",
        "Validation Accuracy is 0.9527363181114197\n",
        "\n",
        "Training loss is 0.020730653777718544\n",
        "\n",
        "Validation loss is 0.18604408204555511\n"
      ],
      "metadata": {
        "id": "FGY82N-XNPsw"
      }
    },
    {
      "cell_type": "markdown",
      "source": [
        "**FOR SINGLE PREDICTION**"
      ],
      "metadata": {
        "id": "36pHTAyPNUle"
      }
    },
    {
      "cell_type": "code",
      "execution_count": null,
      "metadata": {
        "cellView": "form",
        "id": "QwZAnkijMD1K"
      },
      "outputs": [],
      "source": [
        "#@title Add PubChem Compound ID (CID) for both Drug and Excipient and Run Both Cells (Shift + Enter)\n",
        "#%%capture\n",
        "!pip install pubchempy\n",
        "import tensorflow as tf\n",
        "import pandas as pd \n",
        "import numpy as np \n",
        "import io\n",
        "from tensorflow import keras\n",
        "import pubchempy as pcp\n",
        "from sklearn.preprocessing import OneHotEncoder\n",
        "from keras.models import load_model\n",
        "import time as tm\n",
        "\n",
        "#Download Model.hdf5 from google drive\n",
        "from google_drive_downloader import GoogleDriveDownloader as gdd\n",
        "\n",
        "gdd.download_file_from_google_drive(file_id='1MJgrc3AzCtlP9-bEUmKFz-PucWes7V_m',\n",
        "                                    dest_path='/content/sample_data/Model.hdf5',\n",
        "                                    unzip=False)\n",
        "#Load Model\n",
        "model = load_model('/content/sample_data/Model.hdf5', compile= True)\n",
        "\n",
        "#Compile Fingerprints (1762 Inputs)\n",
        "Drug_CID =  92135774#@param {type:\"number\"}\n",
        "Excipient_CID =  11177#@param {type:\"number\"}\n",
        "\n",
        "list(pcp.Compound.from_cid(Drug_CID).cactvs_fingerprint)\n",
        "CID_D = pcp.Compound.from_cid(Drug_CID)\n",
        "CID_E = pcp.Compound.from_cid(Excipient_CID)\n",
        "\n",
        "FPD = CID_D.cactvs_fingerprint\n",
        "FPE = CID_E.cactvs_fingerprint \n",
        "\n",
        "List1 = list(FPD)\n",
        "List2 = list(FPE)\n",
        "List = List1 + List2\n",
        " \n",
        "t = pd.DataFrame(np.array(List).reshape(-1,len(List)))\n",
        "\n",
        "dataset1 = t.values\n",
        "#t.dtype = int\n",
        "X_Predict = (dataset1[:,0:1762].astype(int))\n",
        "#print(X_Predict)\n",
        "#print(X_Predict.shape)\n",
        "#print(X_Predict.dtype)\n",
        "\n",
        "t1 = model.predict(X_Predict)\n",
        "#print(t1)\n",
        "\n",
        "t2 = np.round(t1)\n",
        "#print(t2)\n",
        " \n",
        "#Y_prediction = enc.inverse_transform(t2)\n",
        "#print(Y_prediction, Y_prediction.shape)\n",
        "Y1 = np.array([['Possibally Compatible'], ['Possibally Incompatible']])\n",
        "from sklearn.preprocessing import OneHotEncoder\n",
        "enc = OneHotEncoder(handle_unknown='ignore')\n",
        "enc.fit(Y1)\n",
        "OneHotEncoder(handle_unknown='ignore')\n",
        "enc.categories_\n",
        "Y = enc.transform(Y1).toarray()\n",
        "Y_prediction = enc.inverse_transform(t2)\n",
        "\n",
        "#print(Y_prediction)"
      ]
    },
    {
      "cell_type": "code",
      "source": [
        "#@title Show Result\n",
        "#print(t2)\n",
        "from termcolor import colored\n",
        "if Y_prediction >= 'Possibally Incompatible':\n",
        "  color = 'white'\n",
        "  highlight = 'on_red'\n",
        "else:\n",
        "  color = 'white'\n",
        "  highlight = 'on_green'\n",
        "print(colored(Y_prediction,color,highlight, attrs = ['bold']), \"(Probability is\", t1,\")\")\n"
      ],
      "metadata": {
        "cellView": "form",
        "id": "uAqyzcx6MKHP",
        "outputId": "5b03cc24-fe4f-451c-f295-1ca8a14227e6",
        "colab": {
          "base_uri": "https://localhost:8080/"
        }
      },
      "execution_count": null,
      "outputs": [
        {
          "output_type": "stream",
          "name": "stdout",
          "text": [
            "\u001b[1m\u001b[42m\u001b[37m[['Possibally Compatible']]\u001b[0m (Probability is [[9.9980146e-01 1.9860455e-04]] )\n"
          ]
        }
      ]
    },
    {
      "cell_type": "markdown",
      "source": [
        "**FOR MULTIPLE PREDICTION**"
      ],
      "metadata": {
        "id": "aviz1LPrNKzy"
      }
    },
    {
      "cell_type": "code",
      "source": [
        "#@title UPLOAD EXCEL (Predict.xlsx) for Multiple Prediction\n",
        "# CID to Fingerprint: First Drug\n",
        "# CID to Fingerprint: First Drug\n",
        "\n",
        "#Uploade Predict.xlsx file\n",
        "from google.colab import files\n",
        "uploaded = files.upload()\n",
        "\n",
        "df = pd.read_excel('/content/Predict.xlsx')\n",
        "df1 = df.iloc[:, 0:1]\n",
        "cidvals = df1['Drug_CID']\n",
        "componentFingerprint = []\n",
        "for cid in cidvals:\n",
        "  c = pcp.Compound.from_cid(cid)\n",
        "  componentFingerprint.append(c.cactvs_fingerprint)\n",
        "  tm.sleep(0.1)\n",
        "\n",
        "CD1 = df1.assign(fp=componentFingerprint)\n",
        "i = 1\n",
        "for  componentFingerprint in c.cactvs_fingerprint:\n",
        "    CD1['fp'] = CD1['fp'].astype(str)\n",
        "    CD1['fp'+str (i)] = CD1['fp'].str[i-1:i]\n",
        "    i = i+ 1\n",
        "#print(componentFingerprint)\n",
        "#print(CD1)\n",
        "\n",
        "# CID to Fingerprint: Second Drug\n",
        "df = pd.read_excel('/content/Predict.xlsx')\n",
        "df2 = df.iloc[:, 1:2]\n",
        "cidvals = df2['Excipient_CID']\n",
        "componentFingerprint = []\n",
        "for cid in cidvals:\n",
        "  c = pcp.Compound.from_cid(cid)\n",
        "  componentFingerprint.append(c.cactvs_fingerprint)\n",
        "  tm.sleep(0.1)\n",
        "\n",
        "CD2 = df2.assign(fp=componentFingerprint)\n",
        "i = 1\n",
        "for  componentFingerprint in c.cactvs_fingerprint:\n",
        "    CD2['fp'] = CD2['fp'].astype(str)\n",
        "    CD2['fp'+str (i)] = CD2['fp'].str[i-1:i]\n",
        "    i = i+ 1\n",
        "#print(componentFingerprint)\n",
        "#print(CD2)\n",
        "\n",
        "CID= pd.DataFrame(pd.concat([CD1,CD2], axis = 1)) # Two CID Joined\n",
        "CID_Data = CID.drop(['Drug_CID', 'fp','Excipient_CID'], axis=1, inplace = False)\n",
        "\n",
        "X_Predict = (CID_Data.iloc[:,0:1762].astype(int))\n",
        "t2 = np.round(model.predict(X_Predict))\n",
        "Y1 = np.array([['Possiblly Compatible'], ['Possiblly Incompatible']])\n",
        "from sklearn.preprocessing import OneHotEncoder\n",
        "enc = OneHotEncoder(handle_unknown='ignore')\n",
        "enc.fit(Y1)\n",
        "OneHotEncoder(handle_unknown='ignore')\n",
        "enc.categories_\n",
        "Y = enc.transform(Y1).toarray()\n",
        "Y_prediction = enc.inverse_transform(t2)\n"
      ],
      "metadata": {
        "cellView": "form",
        "id": "-E-mZSqdMRPV"
      },
      "execution_count": null,
      "outputs": []
    },
    {
      "cell_type": "code",
      "source": [
        "#@title Download Results in Excel\n",
        "result = pd.DataFrame(Y_prediction)\n",
        "Intact = pd.DataFrame(pd.concat([df1,df2,result], axis = 1))\n",
        "Intact.to_excel(\"Interaction_Result.xlsx\")\n",
        "files.download('Interaction_Result.xlsx') "
      ],
      "metadata": {
        "cellView": "form",
        "id": "PC7GThLMNGsp"
      },
      "execution_count": null,
      "outputs": []
    }
  ]
}